{
 "cells": [
  {
   "cell_type": "code",
   "execution_count": null,
   "id": "bca46349",
   "metadata": {},
   "outputs": [],
   "source": [
    "import requests\n",
    "\n",
    "windows_server_url = 'http://172.21.160.1:5522/click'  # Windows 호스트 IP\n",
    "response = requests.get(windows_server_url, timeout=5)"
   ]
  }
 ],
 "metadata": {
  "kernelspec": {
   "display_name": "torch_env",
   "language": "python",
   "name": "python3"
  },
  "language_info": {
   "codemirror_mode": {
    "name": "ipython",
    "version": 3
   },
   "file_extension": ".py",
   "mimetype": "text/x-python",
   "name": "python",
   "nbconvert_exporter": "python",
   "pygments_lexer": "ipython3",
   "version": "3.11.0"
  }
 },
 "nbformat": 4,
 "nbformat_minor": 5
}
