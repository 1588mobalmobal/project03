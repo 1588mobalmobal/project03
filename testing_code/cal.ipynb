{
 "cells": [
  {
   "cell_type": "code",
   "execution_count": null,
   "id": "bca46349",
   "metadata": {},
   "outputs": [],
   "source": [
    "import requests\n",
    "\n",
    "windows_server_url = 'http://172.21.160.1:5522/click'  # Windows 호스트 IP\n",
    "response = requests.get(windows_server_url, timeout=5)"
   ]
  },
  {
   "cell_type": "code",
   "execution_count": 1,
   "id": "9d0a188e",
   "metadata": {},
   "outputs": [],
   "source": [
    "import numpy as np"
   ]
  },
  {
   "cell_type": "code",
   "execution_count": 7,
   "id": "95ef58b7",
   "metadata": {},
   "outputs": [
    {
     "name": "stdout",
     "output_type": "stream",
     "text": [
      "1.0 0.0\n"
     ]
    }
   ],
   "source": [
    "a = 90\n",
    "rad = np.deg2rad(a)\n",
    "print(round(np.sin(rad), 3), round(np.cos(rad), 3))"
   ]
  }
 ],
 "metadata": {
  "kernelspec": {
   "display_name": "torch_env",
   "language": "python",
   "name": "python3"
  },
  "language_info": {
   "codemirror_mode": {
    "name": "ipython",
    "version": 3
   },
   "file_extension": ".py",
   "mimetype": "text/x-python",
   "name": "python",
   "nbconvert_exporter": "python",
   "pygments_lexer": "ipython3",
   "version": "3.11.11"
  }
 },
 "nbformat": 4,
 "nbformat_minor": 5
}
