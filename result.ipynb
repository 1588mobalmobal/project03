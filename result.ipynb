{
 "cells": [
  {
   "cell_type": "code",
   "execution_count": 4,
   "id": "6149dab0",
   "metadata": {},
   "outputs": [
    {
     "data": {
      "text/html": [
       "<div>\n",
       "<style scoped>\n",
       "    .dataframe tbody tr th:only-of-type {\n",
       "        vertical-align: middle;\n",
       "    }\n",
       "\n",
       "    .dataframe tbody tr th {\n",
       "        vertical-align: top;\n",
       "    }\n",
       "\n",
       "    .dataframe thead th {\n",
       "        text-align: right;\n",
       "    }\n",
       "</style>\n",
       "<table border=\"1\" class=\"dataframe\">\n",
       "  <thead>\n",
       "    <tr style=\"text-align: right;\">\n",
       "      <th></th>\n",
       "      <th>A</th>\n",
       "      <th>D</th>\n",
       "      <th>S</th>\n",
       "      <th>W</th>\n",
       "      <th>count</th>\n",
       "      <th>reward</th>\n",
       "    </tr>\n",
       "  </thead>\n",
       "  <tbody>\n",
       "    <tr>\n",
       "      <th>0</th>\n",
       "      <td>6</td>\n",
       "      <td>9</td>\n",
       "      <td>8</td>\n",
       "      <td>9</td>\n",
       "      <td>32</td>\n",
       "      <td>7.894445</td>\n",
       "    </tr>\n",
       "    <tr>\n",
       "      <th>1</th>\n",
       "      <td>140</td>\n",
       "      <td>113</td>\n",
       "      <td>136</td>\n",
       "      <td>123</td>\n",
       "      <td>512</td>\n",
       "      <td>-12.059385</td>\n",
       "    </tr>\n",
       "    <tr>\n",
       "      <th>2</th>\n",
       "      <td>7</td>\n",
       "      <td>6</td>\n",
       "      <td>5</td>\n",
       "      <td>1</td>\n",
       "      <td>19</td>\n",
       "      <td>7.532755</td>\n",
       "    </tr>\n",
       "  </tbody>\n",
       "</table>\n",
       "</div>"
      ],
      "text/plain": [
       "     A    D    S    W  count     reward\n",
       "0    6    9    8    9     32   7.894445\n",
       "1  140  113  136  123    512 -12.059385\n",
       "2    7    6    5    1     19   7.532755"
      ]
     },
     "execution_count": 4,
     "metadata": {},
     "output_type": "execute_result"
    }
   ],
   "source": [
    "import pandas as pd\n",
    "import numpy as np\n",
    "from collections import Counter\n",
    "\n",
    "df_rewards = pd.read_csv('./rewards.csv', encoding='cp949')\n",
    "df_rewards = df_rewards.iloc[:,1:]\n",
    "df_rewards['total'] = df_rewards.sum(axis=1)\n",
    "df_rewards.iloc[:,-1]\n",
    "df_commands = pd.read_csv('./commands.csv', encoding='cp949')\n",
    "df_commands = df_commands.iloc[:, 1:]\n",
    "result = df_commands.apply(lambda x : x.value_counts(), axis = 1)\n",
    "result['count'] = result.sum(axis=1)\n",
    "result['reward'] = df_rewards.iloc[:,-1]\n",
    "result.to_csv('./result.csv', encoding='cp949')\n",
    "result"
   ]
  }
 ],
 "metadata": {
  "kernelspec": {
   "display_name": "torch_env",
   "language": "python",
   "name": "python3"
  },
  "language_info": {
   "codemirror_mode": {
    "name": "ipython",
    "version": 3
   },
   "file_extension": ".py",
   "mimetype": "text/x-python",
   "name": "python",
   "nbconvert_exporter": "python",
   "pygments_lexer": "ipython3",
   "version": "3.11.11"
  }
 },
 "nbformat": 4,
 "nbformat_minor": 5
}
