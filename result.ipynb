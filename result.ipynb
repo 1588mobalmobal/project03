{
 "cells": [
  {
   "cell_type": "code",
   "execution_count": null,
   "id": "6149dab0",
   "metadata": {},
   "outputs": [],
   "source": [
    "import pandas as pd\n",
    "import numpy as np\n",
    "from collections import Counter\n",
    "\n",
    "df_rewards = pd.read_csv('./rewards.csv', encoding='cp949')\n",
    "df_rewards = df_rewards.iloc[:,1:]\n",
    "df_rewards['total'] = df_rewards.sum(axis=1)\n",
    "df_rewards.iloc[:,-1]\n",
    "df_commands = pd.read_csv('./commands.csv', encoding='cp949')\n",
    "df_commands = df_commands.iloc[:, 1:]\n",
    "result = df_commands.apply(lambda x : x.value_counts(), axis = 1)\n",
    "result['count'] = result.sum(axis=1)\n",
    "result['reward'] = df_rewards.iloc[:,-1]\n",
    "result.to_csv('./result.csv', encoding='cp949')\n",
    "result"
   ]
  }
 ],
 "metadata": {
  "kernelspec": {
   "display_name": "torch_env",
   "language": "python",
   "name": "python3"
  },
  "language_info": {
   "codemirror_mode": {
    "name": "ipython",
    "version": 3
   },
   "file_extension": ".py",
   "mimetype": "text/x-python",
   "name": "python",
   "nbconvert_exporter": "python",
   "pygments_lexer": "ipython3",
   "version": "3.11.11"
  }
 },
 "nbformat": 4,
 "nbformat_minor": 5
}
